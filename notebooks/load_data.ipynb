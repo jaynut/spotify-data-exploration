{
 "cells": [
  {
   "cell_type": "code",
   "execution_count": 1,
   "id": "0604d94d",
   "metadata": {},
   "outputs": [
    {
     "name": "stdout",
     "output_type": "stream",
     "text": [
      "Requirement already satisfied: spotipy in /home/jay/myenv/lib/python3.10/site-packages (2.23.0)\n",
      "Requirement already satisfied: redis>=3.5.3 in /home/jay/myenv/lib/python3.10/site-packages (from spotipy) (4.5.5)\n",
      "Requirement already satisfied: requests>=2.25.0 in /home/jay/myenv/lib/python3.10/site-packages (from spotipy) (2.31.0)\n",
      "Requirement already satisfied: six>=1.15.0 in /home/jay/myenv/lib/python3.10/site-packages (from spotipy) (1.16.0)\n",
      "Requirement already satisfied: urllib3>=1.26.0 in /home/jay/myenv/lib/python3.10/site-packages (from spotipy) (2.0.3)\n",
      "Requirement already satisfied: async-timeout>=4.0.2 in /home/jay/myenv/lib/python3.10/site-packages (from redis>=3.5.3->spotipy) (4.0.2)\n",
      "Requirement already satisfied: charset-normalizer<4,>=2 in /home/jay/myenv/lib/python3.10/site-packages (from requests>=2.25.0->spotipy) (3.1.0)\n",
      "Requirement already satisfied: idna<4,>=2.5 in /home/jay/myenv/lib/python3.10/site-packages (from requests>=2.25.0->spotipy) (3.4)\n",
      "Requirement already satisfied: certifi>=2017.4.17 in /home/jay/myenv/lib/python3.10/site-packages (from requests>=2.25.0->spotipy) (2023.5.7)\n",
      "\n",
      "\u001b[1m[\u001b[0m\u001b[34;49mnotice\u001b[0m\u001b[1;39;49m]\u001b[0m\u001b[39;49m A new release of pip is available: \u001b[0m\u001b[31;49m23.1.2\u001b[0m\u001b[39;49m -> \u001b[0m\u001b[32;49m23.2.1\u001b[0m\n",
      "\u001b[1m[\u001b[0m\u001b[34;49mnotice\u001b[0m\u001b[1;39;49m]\u001b[0m\u001b[39;49m To update, run: \u001b[0m\u001b[32;49mpip install --upgrade pip\u001b[0m\n"
     ]
    }
   ],
   "source": [
    "import sys\n",
    "!{sys.executable} -m pip install spotipy\n",
    "\n",
    "import spotipy\n",
    "import config\n",
    "from spotipy.oauth2 import SpotifyClientCredentials\n",
    "from spotipy.oauth2 import SpotifyOAuth\n",
    "import re \n",
    "import pandas as pd\n",
    "\n"
   ]
  },
  {
   "cell_type": "code",
   "execution_count": 8,
   "id": "df5fce94",
   "metadata": {},
   "outputs": [],
   "source": [
    "def load_track_features(tracks,spotify):\n",
    "    offset = 0\n",
    "    track_data = []\n",
    "    while offset < len(tracks):\n",
    "        ids = []\n",
    "        for i in range(offset,min(offset+100,len(tracks))):\n",
    "            ids.append(tracks[i]['spotify_id'])\n",
    "        current_run = spotify.audio_features(ids)\n",
    "        track_data += current_run\n",
    "        offset = offset + 100\n",
    "    return track_data\n",
    "\n",
    "def parse_playlist(playlist):\n",
    "    track_data = []\n",
    "    \n",
    "    for item in playlist['items']:\n",
    "        track = item['track']\n",
    "        track_dict = {}\n",
    "        track_dict['liked_at'] = item['added_at']\n",
    "        track_dict['name'] = track['name']\n",
    "        track_dict['spotify_id'] = track['id']\n",
    "        track_dict['artists'] = \",\".join(i[\"name\"] for i in track['artists'])\n",
    "        track_dict['popularity'] = track['popularity']\n",
    "        #for simplicity we're going to use the genre of the first artist on the track\n",
    "        track_dict['artist_id'] = track['artists'][0]['id']\n",
    "        track_data.append(track_dict)\n",
    "\n",
    "    return track_data\n",
    "\n",
    "\n",
    "#genres seem to be missing from both the track object and album object, but they're present in\n",
    "# the artist object.  We're going to use artist to look up the genres and then join them on the\n",
    "# dataframe.  \n",
    "def load_artist_genres(tracks,spotify):\n",
    "    offset = 0\n",
    "    step_size = 20\n",
    "    artist_genres = {}\n",
    "    \n",
    "    while offset < len(tracks):\n",
    "        ids = []\n",
    "        for i in range(offset,min(offset+step_size,len(tracks))):\n",
    "            ids.append(tracks[i]['artist_id'])\n",
    "        current_run = spotify.artists(ids)\n",
    "        for data in current_run['artists']:\n",
    "    \n",
    "            artist_genres[data['id']] = data['genres']\n",
    "        offset = offset + step_size\n",
    "    return artist_genres\n",
    "    \n",
    "                       "
   ]
  },
  {
   "cell_type": "code",
   "execution_count": 6,
   "id": "c03bf425",
   "metadata": {},
   "outputs": [],
   "source": [
    "def load_liked_songs(spotify):\n",
    "\n",
    "    tracks = []\n",
    "    offset = 0\n",
    "    \n",
    "    while True:\n",
    "        current_run = spotify.current_user_saved_tracks(offset=offset,limit=50)\n",
    "        tracks.extend(parse_playlist(current_run))\n",
    "        offset = len(current_run['items']) + offset\n",
    "        #There's 50 tracks/page, so if we ever have less than 50 we can stop paging\n",
    "        if len(current_run['items']) < 50:\n",
    "            break\n",
    "    \n",
    "    \n",
    "    track_data = load_track_features(tracks,spotify)\n",
    "    artist_genres = load_artist_genres(tracks,spotify)\n",
    "    \n",
    "    names_frame = pd.DataFrame.from_records(tracks).set_index('spotify_id')\n",
    "    names_frame['genres'] = names_frame['artist_id'].map(artist_genres)\n",
    "    return pd.DataFrame(track_data).rename(columns={\"id\":\"spotify_id\"}).set_index('spotify_id').join(names_frame)"
   ]
  },
  {
   "cell_type": "code",
   "execution_count": 7,
   "id": "32b4ec17",
   "metadata": {},
   "outputs": [],
   "source": [
    "config.init()\n",
    "spotify = config.get_auth()\n",
    "results = load_liked_songs(spotify)\n",
    "results.to_csv(\"../data/liked_songs.csv\")"
   ]
  }
 ],
 "metadata": {
  "kernelspec": {
   "display_name": "Python 3 (ipykernel)",
   "language": "python",
   "name": "python3"
  },
  "language_info": {
   "codemirror_mode": {
    "name": "ipython",
    "version": 3
   },
   "file_extension": ".py",
   "mimetype": "text/x-python",
   "name": "python",
   "nbconvert_exporter": "python",
   "pygments_lexer": "ipython3",
   "version": "3.10.6"
  }
 },
 "nbformat": 4,
 "nbformat_minor": 5
}
